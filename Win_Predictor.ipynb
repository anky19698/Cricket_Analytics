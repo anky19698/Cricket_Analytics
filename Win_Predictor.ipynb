{
  "nbformat": 4,
  "nbformat_minor": 0,
  "metadata": {
    "colab": {
      "provenance": [],
      "authorship_tag": "ABX9TyPpLk0ZMWIL2UbUqKmTm4AD",
      "include_colab_link": true
    },
    "kernelspec": {
      "name": "python3",
      "display_name": "Python 3"
    },
    "language_info": {
      "name": "python"
    }
  },
  "cells": [
    {
      "cell_type": "markdown",
      "metadata": {
        "id": "view-in-github",
        "colab_type": "text"
      },
      "source": [
        "<a href=\"https://colab.research.google.com/github/anky19698/Cricket_Analytics/blob/main/Win_Predictor.ipynb\" target=\"_parent\"><img src=\"https://colab.research.google.com/assets/colab-badge.svg\" alt=\"Open In Colab\"/></a>"
      ]
    },
    {
      "cell_type": "markdown",
      "source": [
        "# Importing IPL Data\n"
      ],
      "metadata": {
        "id": "P5ijUbb_RuxQ"
      }
    },
    {
      "cell_type": "code",
      "execution_count": 1,
      "metadata": {
        "colab": {
          "base_uri": "https://localhost:8080/"
        },
        "id": "h0NfWciGRq4Y",
        "outputId": "3326e4eb-85bd-443f-8673-01f669704217"
      },
      "outputs": [
        {
          "output_type": "stream",
          "name": "stdout",
          "text": [
            "success\n"
          ]
        }
      ],
      "source": [
        "# Get the T20 Ball by Ball Data\n",
        "\n",
        "import requests\n",
        "import zipfile\n",
        "import io\n",
        "import os\n",
        "import pandas as pd\n",
        "import glob\n",
        "import os\n",
        "import numpy as np\n",
        "\n",
        "url = 'https://cricsheet.org/downloads/ipl_csv2.zip'\n",
        "\n",
        "response = requests.get(url)\n",
        "destination_folder = 't20_male_csv'\n",
        "\n",
        "if response.status_code == 200:\n",
        "    with zipfile.ZipFile(io.BytesIO(response.content), 'r') as zip_ref:\n",
        "        zip_ref.extractall(destination_folder)\n",
        "        print('success')\n",
        "else:\n",
        "    print('failed')\n",
        "\n",
        "\n"
      ]
    },
    {
      "cell_type": "code",
      "source": [
        "files = glob.glob('/content/t20_male_csv/[0-9]*.csv')\n",
        "all_files = []\n",
        "for file in files:\n",
        "  filename = os.path.basename(file)\n",
        "  # print(filename[:-4])\n",
        "  if 'info' not in filename:\n",
        "    # print(filename)\n",
        "    all_files.append(file)\n",
        "\n",
        "df = pd.concat((pd.read_csv(f, header = 0) for f in all_files))\n",
        "\n",
        "# exporting final csv without super overs data\n",
        "\n",
        "df = df[df['innings'] < 3]\n",
        "\n",
        "df.to_csv('ipl_ball_by_ball.csv', index=False)"
      ],
      "metadata": {
        "id": "1LbH2d_BSFOZ"
      },
      "execution_count": 3,
      "outputs": []
    },
    {
      "cell_type": "code",
      "source": [
        "import pandas as pd\n",
        "import numpy as np\n",
        "import matplotlib.pyplot as plt\n",
        "\n",
        "import warnings\n",
        "warnings.filterwarnings('ignore')"
      ],
      "metadata": {
        "id": "AfeH-tZmSckL"
      },
      "execution_count": 4,
      "outputs": []
    },
    {
      "cell_type": "code",
      "source": [
        "ipl_df = pd.read_csv('ipl_ball_by_ball.csv')"
      ],
      "metadata": {
        "id": "7cVxVWWhSd4V"
      },
      "execution_count": 238,
      "outputs": []
    },
    {
      "cell_type": "code",
      "source": [
        "ipl_df.head()"
      ],
      "metadata": {
        "colab": {
          "base_uri": "https://localhost:8080/",
          "height": 516
        },
        "id": "7unS8-mASgMi",
        "outputId": "8bb7f62b-2932-426a-b392-772bd46ad0b9"
      },
      "execution_count": 239,
      "outputs": [
        {
          "output_type": "execute_result",
          "data": {
            "text/plain": [
              "   match_id season  start_date                                venue  innings  \\\n",
              "0   1254110   2021  2021-10-04  Dubai International Cricket Stadium        1   \n",
              "1   1254110   2021  2021-10-04  Dubai International Cricket Stadium        1   \n",
              "2   1254110   2021  2021-10-04  Dubai International Cricket Stadium        1   \n",
              "3   1254110   2021  2021-10-04  Dubai International Cricket Stadium        1   \n",
              "4   1254110   2021  2021-10-04  Dubai International Cricket Stadium        1   \n",
              "\n",
              "   ball         batting_team    bowling_team     striker   non_striker  ...  \\\n",
              "0   0.1  Chennai Super Kings  Delhi Capitals  RD Gaikwad  F du Plessis  ...   \n",
              "1   0.2  Chennai Super Kings  Delhi Capitals  RD Gaikwad  F du Plessis  ...   \n",
              "2   0.3  Chennai Super Kings  Delhi Capitals  RD Gaikwad  F du Plessis  ...   \n",
              "3   0.4  Chennai Super Kings  Delhi Capitals  RD Gaikwad  F du Plessis  ...   \n",
              "4   0.5  Chennai Super Kings  Delhi Capitals  RD Gaikwad  F du Plessis  ...   \n",
              "\n",
              "  extras  wides  noballs  byes  legbyes  penalty  wicket_type  \\\n",
              "0      0    NaN      NaN   NaN      NaN      NaN          NaN   \n",
              "1      5    5.0      NaN   NaN      NaN      NaN          NaN   \n",
              "2      0    NaN      NaN   NaN      NaN      NaN          NaN   \n",
              "3      1    1.0      NaN   NaN      NaN      NaN          NaN   \n",
              "4      0    NaN      NaN   NaN      NaN      NaN          NaN   \n",
              "\n",
              "   player_dismissed other_wicket_type other_player_dismissed  \n",
              "0               NaN               NaN                    NaN  \n",
              "1               NaN               NaN                    NaN  \n",
              "2               NaN               NaN                    NaN  \n",
              "3               NaN               NaN                    NaN  \n",
              "4               NaN               NaN                    NaN  \n",
              "\n",
              "[5 rows x 22 columns]"
            ],
            "text/html": [
              "\n",
              "  <div id=\"df-d720a502-042c-4bfc-a8a1-af80293e728a\" class=\"colab-df-container\">\n",
              "    <div>\n",
              "<style scoped>\n",
              "    .dataframe tbody tr th:only-of-type {\n",
              "        vertical-align: middle;\n",
              "    }\n",
              "\n",
              "    .dataframe tbody tr th {\n",
              "        vertical-align: top;\n",
              "    }\n",
              "\n",
              "    .dataframe thead th {\n",
              "        text-align: right;\n",
              "    }\n",
              "</style>\n",
              "<table border=\"1\" class=\"dataframe\">\n",
              "  <thead>\n",
              "    <tr style=\"text-align: right;\">\n",
              "      <th></th>\n",
              "      <th>match_id</th>\n",
              "      <th>season</th>\n",
              "      <th>start_date</th>\n",
              "      <th>venue</th>\n",
              "      <th>innings</th>\n",
              "      <th>ball</th>\n",
              "      <th>batting_team</th>\n",
              "      <th>bowling_team</th>\n",
              "      <th>striker</th>\n",
              "      <th>non_striker</th>\n",
              "      <th>...</th>\n",
              "      <th>extras</th>\n",
              "      <th>wides</th>\n",
              "      <th>noballs</th>\n",
              "      <th>byes</th>\n",
              "      <th>legbyes</th>\n",
              "      <th>penalty</th>\n",
              "      <th>wicket_type</th>\n",
              "      <th>player_dismissed</th>\n",
              "      <th>other_wicket_type</th>\n",
              "      <th>other_player_dismissed</th>\n",
              "    </tr>\n",
              "  </thead>\n",
              "  <tbody>\n",
              "    <tr>\n",
              "      <th>0</th>\n",
              "      <td>1254110</td>\n",
              "      <td>2021</td>\n",
              "      <td>2021-10-04</td>\n",
              "      <td>Dubai International Cricket Stadium</td>\n",
              "      <td>1</td>\n",
              "      <td>0.1</td>\n",
              "      <td>Chennai Super Kings</td>\n",
              "      <td>Delhi Capitals</td>\n",
              "      <td>RD Gaikwad</td>\n",
              "      <td>F du Plessis</td>\n",
              "      <td>...</td>\n",
              "      <td>0</td>\n",
              "      <td>NaN</td>\n",
              "      <td>NaN</td>\n",
              "      <td>NaN</td>\n",
              "      <td>NaN</td>\n",
              "      <td>NaN</td>\n",
              "      <td>NaN</td>\n",
              "      <td>NaN</td>\n",
              "      <td>NaN</td>\n",
              "      <td>NaN</td>\n",
              "    </tr>\n",
              "    <tr>\n",
              "      <th>1</th>\n",
              "      <td>1254110</td>\n",
              "      <td>2021</td>\n",
              "      <td>2021-10-04</td>\n",
              "      <td>Dubai International Cricket Stadium</td>\n",
              "      <td>1</td>\n",
              "      <td>0.2</td>\n",
              "      <td>Chennai Super Kings</td>\n",
              "      <td>Delhi Capitals</td>\n",
              "      <td>RD Gaikwad</td>\n",
              "      <td>F du Plessis</td>\n",
              "      <td>...</td>\n",
              "      <td>5</td>\n",
              "      <td>5.0</td>\n",
              "      <td>NaN</td>\n",
              "      <td>NaN</td>\n",
              "      <td>NaN</td>\n",
              "      <td>NaN</td>\n",
              "      <td>NaN</td>\n",
              "      <td>NaN</td>\n",
              "      <td>NaN</td>\n",
              "      <td>NaN</td>\n",
              "    </tr>\n",
              "    <tr>\n",
              "      <th>2</th>\n",
              "      <td>1254110</td>\n",
              "      <td>2021</td>\n",
              "      <td>2021-10-04</td>\n",
              "      <td>Dubai International Cricket Stadium</td>\n",
              "      <td>1</td>\n",
              "      <td>0.3</td>\n",
              "      <td>Chennai Super Kings</td>\n",
              "      <td>Delhi Capitals</td>\n",
              "      <td>RD Gaikwad</td>\n",
              "      <td>F du Plessis</td>\n",
              "      <td>...</td>\n",
              "      <td>0</td>\n",
              "      <td>NaN</td>\n",
              "      <td>NaN</td>\n",
              "      <td>NaN</td>\n",
              "      <td>NaN</td>\n",
              "      <td>NaN</td>\n",
              "      <td>NaN</td>\n",
              "      <td>NaN</td>\n",
              "      <td>NaN</td>\n",
              "      <td>NaN</td>\n",
              "    </tr>\n",
              "    <tr>\n",
              "      <th>3</th>\n",
              "      <td>1254110</td>\n",
              "      <td>2021</td>\n",
              "      <td>2021-10-04</td>\n",
              "      <td>Dubai International Cricket Stadium</td>\n",
              "      <td>1</td>\n",
              "      <td>0.4</td>\n",
              "      <td>Chennai Super Kings</td>\n",
              "      <td>Delhi Capitals</td>\n",
              "      <td>RD Gaikwad</td>\n",
              "      <td>F du Plessis</td>\n",
              "      <td>...</td>\n",
              "      <td>1</td>\n",
              "      <td>1.0</td>\n",
              "      <td>NaN</td>\n",
              "      <td>NaN</td>\n",
              "      <td>NaN</td>\n",
              "      <td>NaN</td>\n",
              "      <td>NaN</td>\n",
              "      <td>NaN</td>\n",
              "      <td>NaN</td>\n",
              "      <td>NaN</td>\n",
              "    </tr>\n",
              "    <tr>\n",
              "      <th>4</th>\n",
              "      <td>1254110</td>\n",
              "      <td>2021</td>\n",
              "      <td>2021-10-04</td>\n",
              "      <td>Dubai International Cricket Stadium</td>\n",
              "      <td>1</td>\n",
              "      <td>0.5</td>\n",
              "      <td>Chennai Super Kings</td>\n",
              "      <td>Delhi Capitals</td>\n",
              "      <td>RD Gaikwad</td>\n",
              "      <td>F du Plessis</td>\n",
              "      <td>...</td>\n",
              "      <td>0</td>\n",
              "      <td>NaN</td>\n",
              "      <td>NaN</td>\n",
              "      <td>NaN</td>\n",
              "      <td>NaN</td>\n",
              "      <td>NaN</td>\n",
              "      <td>NaN</td>\n",
              "      <td>NaN</td>\n",
              "      <td>NaN</td>\n",
              "      <td>NaN</td>\n",
              "    </tr>\n",
              "  </tbody>\n",
              "</table>\n",
              "<p>5 rows × 22 columns</p>\n",
              "</div>\n",
              "    <div class=\"colab-df-buttons\">\n",
              "\n",
              "  <div class=\"colab-df-container\">\n",
              "    <button class=\"colab-df-convert\" onclick=\"convertToInteractive('df-d720a502-042c-4bfc-a8a1-af80293e728a')\"\n",
              "            title=\"Convert this dataframe to an interactive table.\"\n",
              "            style=\"display:none;\">\n",
              "\n",
              "  <svg xmlns=\"http://www.w3.org/2000/svg\" height=\"24px\" viewBox=\"0 -960 960 960\">\n",
              "    <path d=\"M120-120v-720h720v720H120Zm60-500h600v-160H180v160Zm220 220h160v-160H400v160Zm0 220h160v-160H400v160ZM180-400h160v-160H180v160Zm440 0h160v-160H620v160ZM180-180h160v-160H180v160Zm440 0h160v-160H620v160Z\"/>\n",
              "  </svg>\n",
              "    </button>\n",
              "\n",
              "  <style>\n",
              "    .colab-df-container {\n",
              "      display:flex;\n",
              "      gap: 12px;\n",
              "    }\n",
              "\n",
              "    .colab-df-convert {\n",
              "      background-color: #E8F0FE;\n",
              "      border: none;\n",
              "      border-radius: 50%;\n",
              "      cursor: pointer;\n",
              "      display: none;\n",
              "      fill: #1967D2;\n",
              "      height: 32px;\n",
              "      padding: 0 0 0 0;\n",
              "      width: 32px;\n",
              "    }\n",
              "\n",
              "    .colab-df-convert:hover {\n",
              "      background-color: #E2EBFA;\n",
              "      box-shadow: 0px 1px 2px rgba(60, 64, 67, 0.3), 0px 1px 3px 1px rgba(60, 64, 67, 0.15);\n",
              "      fill: #174EA6;\n",
              "    }\n",
              "\n",
              "    .colab-df-buttons div {\n",
              "      margin-bottom: 4px;\n",
              "    }\n",
              "\n",
              "    [theme=dark] .colab-df-convert {\n",
              "      background-color: #3B4455;\n",
              "      fill: #D2E3FC;\n",
              "    }\n",
              "\n",
              "    [theme=dark] .colab-df-convert:hover {\n",
              "      background-color: #434B5C;\n",
              "      box-shadow: 0px 1px 3px 1px rgba(0, 0, 0, 0.15);\n",
              "      filter: drop-shadow(0px 1px 2px rgba(0, 0, 0, 0.3));\n",
              "      fill: #FFFFFF;\n",
              "    }\n",
              "  </style>\n",
              "\n",
              "    <script>\n",
              "      const buttonEl =\n",
              "        document.querySelector('#df-d720a502-042c-4bfc-a8a1-af80293e728a button.colab-df-convert');\n",
              "      buttonEl.style.display =\n",
              "        google.colab.kernel.accessAllowed ? 'block' : 'none';\n",
              "\n",
              "      async function convertToInteractive(key) {\n",
              "        const element = document.querySelector('#df-d720a502-042c-4bfc-a8a1-af80293e728a');\n",
              "        const dataTable =\n",
              "          await google.colab.kernel.invokeFunction('convertToInteractive',\n",
              "                                                    [key], {});\n",
              "        if (!dataTable) return;\n",
              "\n",
              "        const docLinkHtml = 'Like what you see? Visit the ' +\n",
              "          '<a target=\"_blank\" href=https://colab.research.google.com/notebooks/data_table.ipynb>data table notebook</a>'\n",
              "          + ' to learn more about interactive tables.';\n",
              "        element.innerHTML = '';\n",
              "        dataTable['output_type'] = 'display_data';\n",
              "        await google.colab.output.renderOutput(dataTable, element);\n",
              "        const docLink = document.createElement('div');\n",
              "        docLink.innerHTML = docLinkHtml;\n",
              "        element.appendChild(docLink);\n",
              "      }\n",
              "    </script>\n",
              "  </div>\n",
              "\n",
              "\n",
              "<div id=\"df-86faf72b-5343-4782-97a2-a8e68800111c\">\n",
              "  <button class=\"colab-df-quickchart\" onclick=\"quickchart('df-86faf72b-5343-4782-97a2-a8e68800111c')\"\n",
              "            title=\"Suggest charts\"\n",
              "            style=\"display:none;\">\n",
              "\n",
              "<svg xmlns=\"http://www.w3.org/2000/svg\" height=\"24px\"viewBox=\"0 0 24 24\"\n",
              "     width=\"24px\">\n",
              "    <g>\n",
              "        <path d=\"M19 3H5c-1.1 0-2 .9-2 2v14c0 1.1.9 2 2 2h14c1.1 0 2-.9 2-2V5c0-1.1-.9-2-2-2zM9 17H7v-7h2v7zm4 0h-2V7h2v10zm4 0h-2v-4h2v4z\"/>\n",
              "    </g>\n",
              "</svg>\n",
              "  </button>\n",
              "\n",
              "<style>\n",
              "  .colab-df-quickchart {\n",
              "      --bg-color: #E8F0FE;\n",
              "      --fill-color: #1967D2;\n",
              "      --hover-bg-color: #E2EBFA;\n",
              "      --hover-fill-color: #174EA6;\n",
              "      --disabled-fill-color: #AAA;\n",
              "      --disabled-bg-color: #DDD;\n",
              "  }\n",
              "\n",
              "  [theme=dark] .colab-df-quickchart {\n",
              "      --bg-color: #3B4455;\n",
              "      --fill-color: #D2E3FC;\n",
              "      --hover-bg-color: #434B5C;\n",
              "      --hover-fill-color: #FFFFFF;\n",
              "      --disabled-bg-color: #3B4455;\n",
              "      --disabled-fill-color: #666;\n",
              "  }\n",
              "\n",
              "  .colab-df-quickchart {\n",
              "    background-color: var(--bg-color);\n",
              "    border: none;\n",
              "    border-radius: 50%;\n",
              "    cursor: pointer;\n",
              "    display: none;\n",
              "    fill: var(--fill-color);\n",
              "    height: 32px;\n",
              "    padding: 0;\n",
              "    width: 32px;\n",
              "  }\n",
              "\n",
              "  .colab-df-quickchart:hover {\n",
              "    background-color: var(--hover-bg-color);\n",
              "    box-shadow: 0 1px 2px rgba(60, 64, 67, 0.3), 0 1px 3px 1px rgba(60, 64, 67, 0.15);\n",
              "    fill: var(--button-hover-fill-color);\n",
              "  }\n",
              "\n",
              "  .colab-df-quickchart-complete:disabled,\n",
              "  .colab-df-quickchart-complete:disabled:hover {\n",
              "    background-color: var(--disabled-bg-color);\n",
              "    fill: var(--disabled-fill-color);\n",
              "    box-shadow: none;\n",
              "  }\n",
              "\n",
              "  .colab-df-spinner {\n",
              "    border: 2px solid var(--fill-color);\n",
              "    border-color: transparent;\n",
              "    border-bottom-color: var(--fill-color);\n",
              "    animation:\n",
              "      spin 1s steps(1) infinite;\n",
              "  }\n",
              "\n",
              "  @keyframes spin {\n",
              "    0% {\n",
              "      border-color: transparent;\n",
              "      border-bottom-color: var(--fill-color);\n",
              "      border-left-color: var(--fill-color);\n",
              "    }\n",
              "    20% {\n",
              "      border-color: transparent;\n",
              "      border-left-color: var(--fill-color);\n",
              "      border-top-color: var(--fill-color);\n",
              "    }\n",
              "    30% {\n",
              "      border-color: transparent;\n",
              "      border-left-color: var(--fill-color);\n",
              "      border-top-color: var(--fill-color);\n",
              "      border-right-color: var(--fill-color);\n",
              "    }\n",
              "    40% {\n",
              "      border-color: transparent;\n",
              "      border-right-color: var(--fill-color);\n",
              "      border-top-color: var(--fill-color);\n",
              "    }\n",
              "    60% {\n",
              "      border-color: transparent;\n",
              "      border-right-color: var(--fill-color);\n",
              "    }\n",
              "    80% {\n",
              "      border-color: transparent;\n",
              "      border-right-color: var(--fill-color);\n",
              "      border-bottom-color: var(--fill-color);\n",
              "    }\n",
              "    90% {\n",
              "      border-color: transparent;\n",
              "      border-bottom-color: var(--fill-color);\n",
              "    }\n",
              "  }\n",
              "</style>\n",
              "\n",
              "  <script>\n",
              "    async function quickchart(key) {\n",
              "      const quickchartButtonEl =\n",
              "        document.querySelector('#' + key + ' button');\n",
              "      quickchartButtonEl.disabled = true;  // To prevent multiple clicks.\n",
              "      quickchartButtonEl.classList.add('colab-df-spinner');\n",
              "      try {\n",
              "        const charts = await google.colab.kernel.invokeFunction(\n",
              "            'suggestCharts', [key], {});\n",
              "      } catch (error) {\n",
              "        console.error('Error during call to suggestCharts:', error);\n",
              "      }\n",
              "      quickchartButtonEl.classList.remove('colab-df-spinner');\n",
              "      quickchartButtonEl.classList.add('colab-df-quickchart-complete');\n",
              "    }\n",
              "    (() => {\n",
              "      let quickchartButtonEl =\n",
              "        document.querySelector('#df-86faf72b-5343-4782-97a2-a8e68800111c button');\n",
              "      quickchartButtonEl.style.display =\n",
              "        google.colab.kernel.accessAllowed ? 'block' : 'none';\n",
              "    })();\n",
              "  </script>\n",
              "</div>\n",
              "\n",
              "    </div>\n",
              "  </div>\n"
            ]
          },
          "metadata": {},
          "execution_count": 239
        }
      ]
    },
    {
      "cell_type": "code",
      "source": [
        "ipl_df.columns"
      ],
      "metadata": {
        "colab": {
          "base_uri": "https://localhost:8080/"
        },
        "id": "teh3xlYISm6K",
        "outputId": "b0767ac4-2a5c-4776-a3db-fb5fd3c9aa85"
      },
      "execution_count": 240,
      "outputs": [
        {
          "output_type": "execute_result",
          "data": {
            "text/plain": [
              "Index(['match_id', 'season', 'start_date', 'venue', 'innings', 'ball',\n",
              "       'batting_team', 'bowling_team', 'striker', 'non_striker', 'bowler',\n",
              "       'runs_off_bat', 'extras', 'wides', 'noballs', 'byes', 'legbyes',\n",
              "       'penalty', 'wicket_type', 'player_dismissed', 'other_wicket_type',\n",
              "       'other_player_dismissed'],\n",
              "      dtype='object')"
            ]
          },
          "metadata": {},
          "execution_count": 240
        }
      ]
    },
    {
      "cell_type": "code",
      "source": [
        "# Excluding Super Over Data\n",
        "\n",
        "ipl_df = ipl_df[(ipl_df.innings == 1) | (ipl_df.innings == 2)]"
      ],
      "metadata": {
        "id": "F2Y2y9acSski"
      },
      "execution_count": 241,
      "outputs": []
    },
    {
      "cell_type": "markdown",
      "source": [
        "# Additional Colums:"
      ],
      "metadata": {
        "id": "2Ge7u6vdS-Ga"
      }
    },
    {
      "cell_type": "code",
      "source": [
        "ipl_df['total_runs'] = ipl_df.apply(lambda x: x['runs_off_bat'] + x['extras'], axis = 1)"
      ],
      "metadata": {
        "id": "16fzMtSXS8Ib"
      },
      "execution_count": 242,
      "outputs": []
    },
    {
      "cell_type": "code",
      "source": [
        "ipl_df['isOut'] = ipl_df['player_dismissed'].apply(lambda x: 1 if type(x) == type('str') else 0)"
      ],
      "metadata": {
        "id": "1F8tLOsVTCZ2"
      },
      "execution_count": 243,
      "outputs": []
    },
    {
      "cell_type": "code",
      "source": [
        "ipl_df.batting_team.unique()"
      ],
      "metadata": {
        "colab": {
          "base_uri": "https://localhost:8080/"
        },
        "id": "OaAVIqyrTE1i",
        "outputId": "6bcf46d4-932f-48b5-df6b-163713a34592"
      },
      "execution_count": 244,
      "outputs": [
        {
          "output_type": "execute_result",
          "data": {
            "text/plain": [
              "array(['Chennai Super Kings', 'Delhi Capitals',\n",
              "       'Royal Challengers Bangalore', 'Kings XI Punjab',\n",
              "       'Rajasthan Royals', 'Delhi Daredevils', 'Kolkata Knight Riders',\n",
              "       'Deccan Chargers', 'Mumbai Indians', 'Gujarat Titans',\n",
              "       'Gujarat Lions', 'Sunrisers Hyderabad', 'Pune Warriors',\n",
              "       'Rising Pune Supergiants', 'Lucknow Super Giants',\n",
              "       'Kochi Tuskers Kerala', 'Punjab Kings', 'Rising Pune Supergiant'],\n",
              "      dtype=object)"
            ]
          },
          "metadata": {},
          "execution_count": 244
        }
      ]
    },
    {
      "cell_type": "code",
      "source": [
        "ipl_df[ipl_df.batting_team == 'Punjab Kings'].total_runs.value_counts()"
      ],
      "metadata": {
        "colab": {
          "base_uri": "https://localhost:8080/"
        },
        "id": "-31Wrf0aTH1r",
        "outputId": "e1bbeffe-1d25-46b0-b984-34859e630088"
      },
      "execution_count": 245,
      "outputs": [
        {
          "output_type": "execute_result",
          "data": {
            "text/plain": [
              "1    2067\n",
              "0    1830\n",
              "4     582\n",
              "6     318\n",
              "2     317\n",
              "5      13\n",
              "3      11\n",
              "7       2\n",
              "Name: total_runs, dtype: int64"
            ]
          },
          "metadata": {},
          "execution_count": 245
        }
      ]
    },
    {
      "cell_type": "code",
      "source": [
        "ipl_df[ipl_df.batting_team == 'Delhi Capitals'].total_runs.value_counts()"
      ],
      "metadata": {
        "colab": {
          "base_uri": "https://localhost:8080/"
        },
        "id": "CEdlvN8HTKq7",
        "outputId": "2244c6d0-930b-41ea-858c-4cbad5f2e006"
      },
      "execution_count": 246,
      "outputs": [
        {
          "output_type": "execute_result",
          "data": {
            "text/plain": [
              "1    3978\n",
              "0    3148\n",
              "4    1134\n",
              "2     572\n",
              "6     412\n",
              "3      30\n",
              "5      13\n",
              "7       3\n",
              "Name: total_runs, dtype: int64"
            ]
          },
          "metadata": {},
          "execution_count": 246
        }
      ]
    },
    {
      "cell_type": "markdown",
      "source": [
        "# Choose Teams:"
      ],
      "metadata": {
        "id": "QC1XK1k8TQil"
      }
    },
    {
      "cell_type": "code",
      "source": [
        "# t1 - bat first, t2 - bat second\n",
        "# Ex: MI vs RCB, (match_id: 1254058)\n",
        "\n",
        "t1 = 'Gujarat Titans'\n",
        "t2 = 'Chennai Super Kings'\n",
        "\n",
        "\n",
        "required_match_id = 1370353"
      ],
      "metadata": {
        "id": "-2UbDZ05TNY6"
      },
      "execution_count": 247,
      "outputs": []
    },
    {
      "cell_type": "code",
      "source": [
        "# Checking All Matches Between MI and RCB where MI always Batted First\n",
        "\n",
        "ipl_df[(ipl_df.batting_team == t1) & (ipl_df.bowling_team == t2) & (ipl_df.innings == 1)].match_id.unique()"
      ],
      "metadata": {
        "colab": {
          "base_uri": "https://localhost:8080/"
        },
        "id": "mc_Z1QxdTbYi",
        "outputId": "1c1ebe08-40f9-48f3-c9bc-5fe28cf8d590"
      },
      "execution_count": 248,
      "outputs": [
        {
          "output_type": "execute_result",
          "data": {
            "text/plain": [
              "array([1370353])"
            ]
          },
          "metadata": {},
          "execution_count": 248
        }
      ]
    },
    {
      "cell_type": "code",
      "source": [
        "ipl_df[ipl_df.match_id == required_match_id].head(1)"
      ],
      "metadata": {
        "colab": {
          "base_uri": "https://localhost:8080/",
          "height": 182
        },
        "id": "oD6PUEeTTmGb",
        "outputId": "40908c0c-9135-4497-c24f-a05b706b99aa"
      },
      "execution_count": 249,
      "outputs": [
        {
          "output_type": "execute_result",
          "data": {
            "text/plain": [
              "        match_id season  start_date                             venue  \\\n",
              "185066   1370353   2023  2023-05-29  Narendra Modi Stadium, Ahmedabad   \n",
              "\n",
              "        innings  ball    batting_team         bowling_team  striker  \\\n",
              "185066        1   0.1  Gujarat Titans  Chennai Super Kings  WP Saha   \n",
              "\n",
              "         non_striker  ... noballs  byes  legbyes  penalty  wicket_type  \\\n",
              "185066  Shubman Gill  ...     NaN   NaN      NaN      NaN          NaN   \n",
              "\n",
              "        player_dismissed  other_wicket_type  other_player_dismissed  \\\n",
              "185066               NaN                NaN                     NaN   \n",
              "\n",
              "       total_runs isOut  \n",
              "185066          0     0  \n",
              "\n",
              "[1 rows x 24 columns]"
            ],
            "text/html": [
              "\n",
              "  <div id=\"df-7845ccd6-5313-4dfd-b94e-d790b2620577\" class=\"colab-df-container\">\n",
              "    <div>\n",
              "<style scoped>\n",
              "    .dataframe tbody tr th:only-of-type {\n",
              "        vertical-align: middle;\n",
              "    }\n",
              "\n",
              "    .dataframe tbody tr th {\n",
              "        vertical-align: top;\n",
              "    }\n",
              "\n",
              "    .dataframe thead th {\n",
              "        text-align: right;\n",
              "    }\n",
              "</style>\n",
              "<table border=\"1\" class=\"dataframe\">\n",
              "  <thead>\n",
              "    <tr style=\"text-align: right;\">\n",
              "      <th></th>\n",
              "      <th>match_id</th>\n",
              "      <th>season</th>\n",
              "      <th>start_date</th>\n",
              "      <th>venue</th>\n",
              "      <th>innings</th>\n",
              "      <th>ball</th>\n",
              "      <th>batting_team</th>\n",
              "      <th>bowling_team</th>\n",
              "      <th>striker</th>\n",
              "      <th>non_striker</th>\n",
              "      <th>...</th>\n",
              "      <th>noballs</th>\n",
              "      <th>byes</th>\n",
              "      <th>legbyes</th>\n",
              "      <th>penalty</th>\n",
              "      <th>wicket_type</th>\n",
              "      <th>player_dismissed</th>\n",
              "      <th>other_wicket_type</th>\n",
              "      <th>other_player_dismissed</th>\n",
              "      <th>total_runs</th>\n",
              "      <th>isOut</th>\n",
              "    </tr>\n",
              "  </thead>\n",
              "  <tbody>\n",
              "    <tr>\n",
              "      <th>185066</th>\n",
              "      <td>1370353</td>\n",
              "      <td>2023</td>\n",
              "      <td>2023-05-29</td>\n",
              "      <td>Narendra Modi Stadium, Ahmedabad</td>\n",
              "      <td>1</td>\n",
              "      <td>0.1</td>\n",
              "      <td>Gujarat Titans</td>\n",
              "      <td>Chennai Super Kings</td>\n",
              "      <td>WP Saha</td>\n",
              "      <td>Shubman Gill</td>\n",
              "      <td>...</td>\n",
              "      <td>NaN</td>\n",
              "      <td>NaN</td>\n",
              "      <td>NaN</td>\n",
              "      <td>NaN</td>\n",
              "      <td>NaN</td>\n",
              "      <td>NaN</td>\n",
              "      <td>NaN</td>\n",
              "      <td>NaN</td>\n",
              "      <td>0</td>\n",
              "      <td>0</td>\n",
              "    </tr>\n",
              "  </tbody>\n",
              "</table>\n",
              "<p>1 rows × 24 columns</p>\n",
              "</div>\n",
              "    <div class=\"colab-df-buttons\">\n",
              "\n",
              "  <div class=\"colab-df-container\">\n",
              "    <button class=\"colab-df-convert\" onclick=\"convertToInteractive('df-7845ccd6-5313-4dfd-b94e-d790b2620577')\"\n",
              "            title=\"Convert this dataframe to an interactive table.\"\n",
              "            style=\"display:none;\">\n",
              "\n",
              "  <svg xmlns=\"http://www.w3.org/2000/svg\" height=\"24px\" viewBox=\"0 -960 960 960\">\n",
              "    <path d=\"M120-120v-720h720v720H120Zm60-500h600v-160H180v160Zm220 220h160v-160H400v160Zm0 220h160v-160H400v160ZM180-400h160v-160H180v160Zm440 0h160v-160H620v160ZM180-180h160v-160H180v160Zm440 0h160v-160H620v160Z\"/>\n",
              "  </svg>\n",
              "    </button>\n",
              "\n",
              "  <style>\n",
              "    .colab-df-container {\n",
              "      display:flex;\n",
              "      gap: 12px;\n",
              "    }\n",
              "\n",
              "    .colab-df-convert {\n",
              "      background-color: #E8F0FE;\n",
              "      border: none;\n",
              "      border-radius: 50%;\n",
              "      cursor: pointer;\n",
              "      display: none;\n",
              "      fill: #1967D2;\n",
              "      height: 32px;\n",
              "      padding: 0 0 0 0;\n",
              "      width: 32px;\n",
              "    }\n",
              "\n",
              "    .colab-df-convert:hover {\n",
              "      background-color: #E2EBFA;\n",
              "      box-shadow: 0px 1px 2px rgba(60, 64, 67, 0.3), 0px 1px 3px 1px rgba(60, 64, 67, 0.15);\n",
              "      fill: #174EA6;\n",
              "    }\n",
              "\n",
              "    .colab-df-buttons div {\n",
              "      margin-bottom: 4px;\n",
              "    }\n",
              "\n",
              "    [theme=dark] .colab-df-convert {\n",
              "      background-color: #3B4455;\n",
              "      fill: #D2E3FC;\n",
              "    }\n",
              "\n",
              "    [theme=dark] .colab-df-convert:hover {\n",
              "      background-color: #434B5C;\n",
              "      box-shadow: 0px 1px 3px 1px rgba(0, 0, 0, 0.15);\n",
              "      filter: drop-shadow(0px 1px 2px rgba(0, 0, 0, 0.3));\n",
              "      fill: #FFFFFF;\n",
              "    }\n",
              "  </style>\n",
              "\n",
              "    <script>\n",
              "      const buttonEl =\n",
              "        document.querySelector('#df-7845ccd6-5313-4dfd-b94e-d790b2620577 button.colab-df-convert');\n",
              "      buttonEl.style.display =\n",
              "        google.colab.kernel.accessAllowed ? 'block' : 'none';\n",
              "\n",
              "      async function convertToInteractive(key) {\n",
              "        const element = document.querySelector('#df-7845ccd6-5313-4dfd-b94e-d790b2620577');\n",
              "        const dataTable =\n",
              "          await google.colab.kernel.invokeFunction('convertToInteractive',\n",
              "                                                    [key], {});\n",
              "        if (!dataTable) return;\n",
              "\n",
              "        const docLinkHtml = 'Like what you see? Visit the ' +\n",
              "          '<a target=\"_blank\" href=https://colab.research.google.com/notebooks/data_table.ipynb>data table notebook</a>'\n",
              "          + ' to learn more about interactive tables.';\n",
              "        element.innerHTML = '';\n",
              "        dataTable['output_type'] = 'display_data';\n",
              "        await google.colab.output.renderOutput(dataTable, element);\n",
              "        const docLink = document.createElement('div');\n",
              "        docLink.innerHTML = docLinkHtml;\n",
              "        element.appendChild(docLink);\n",
              "      }\n",
              "    </script>\n",
              "  </div>\n",
              "\n",
              "\n",
              "    </div>\n",
              "  </div>\n"
            ]
          },
          "metadata": {},
          "execution_count": 249
        }
      ]
    },
    {
      "cell_type": "code",
      "source": [
        "# Calculate Total Wickets for Both Teams\n",
        "\n",
        "t1_outs = ipl_df[ipl_df.batting_team == t1].isOut.sum()\n",
        "t2_outs = ipl_df[ipl_df.batting_team == t2].isOut.sum()\n",
        "\n",
        "t1_outs, t2_outs"
      ],
      "metadata": {
        "colab": {
          "base_uri": "https://localhost:8080/"
        },
        "id": "fWhYBPmnTnyT",
        "outputId": "eeb06f7e-4b99-4bd6-a64c-14af82d5b4d7"
      },
      "execution_count": 250,
      "outputs": [
        {
          "output_type": "execute_result",
          "data": {
            "text/plain": [
              "(168, 1166)"
            ]
          },
          "metadata": {},
          "execution_count": 250
        }
      ]
    },
    {
      "cell_type": "code",
      "source": [
        "# Checking Outcome Counts on Every Ball\n",
        "\n",
        "t1_outcomes = ipl_df[ipl_df.batting_team == t1].total_runs.value_counts()\n",
        "t2_outcomes = ipl_df[ipl_df.batting_team == t2].total_runs.value_counts()\n",
        "\n",
        "t1_outcomes, t2_outcomes"
      ],
      "metadata": {
        "colab": {
          "base_uri": "https://localhost:8080/"
        },
        "id": "iQQ5m_CET12r",
        "outputId": "2a8d2a51-2933-4d96-9432-c9d4157a1fef"
      },
      "execution_count": 251,
      "outputs": [
        {
          "output_type": "execute_result",
          "data": {
            "text/plain": [
              "(1    1796\n",
              " 0    1209\n",
              " 4     514\n",
              " 2     277\n",
              " 6     202\n",
              " 5      13\n",
              " 3       9\n",
              " 7       1\n",
              " Name: total_runs, dtype: int64,\n",
              " 1    11334\n",
              " 0     9171\n",
              " 4     3029\n",
              " 2     1839\n",
              " 6     1392\n",
              " 3      106\n",
              " 5       47\n",
              " 7        9\n",
              " Name: total_runs, dtype: int64)"
            ]
          },
          "metadata": {},
          "execution_count": 251
        }
      ]
    },
    {
      "cell_type": "code",
      "source": [
        "# Excluding 5 and 7 Since they are Rare\n",
        "\n",
        "outcomes = [0, 1, 2, 3, 4, 6, 'w']"
      ],
      "metadata": {
        "id": "Mr7lvUx8UIyy"
      },
      "execution_count": 252,
      "outputs": []
    },
    {
      "cell_type": "code",
      "source": [
        "# Outcomes List\n",
        "\n",
        "t1_outcomes_count = []\n",
        "for outcome in outcomes:\n",
        "    try:\n",
        "        if outcome != 'w':\n",
        "            t1_outcomes_count.append(t1_outcomes[outcome])\n",
        "        else:\n",
        "            t1_outcomes_count.append(t1_outs)\n",
        "    except:\n",
        "        t1_outcomes_count.append(0)\n",
        "\n",
        "\n",
        "t2_outcomes_count = []\n",
        "for outcome in outcomes:\n",
        "    try:\n",
        "        if outcome != 'w':\n",
        "            t2_outcomes_count.append(t2_outcomes[outcome])\n",
        "        else:\n",
        "            t2_outcomes_count.append(t2_outs)\n",
        "    except:\n",
        "        t2_outcomes_count.append(0)\n",
        "\n",
        "t1_outcomes_count, t2_outcomes_count"
      ],
      "metadata": {
        "colab": {
          "base_uri": "https://localhost:8080/"
        },
        "id": "DyG3l8Z5Ug0b",
        "outputId": "587f6bf6-c65b-49eb-98a6-37812c771df6"
      },
      "execution_count": 253,
      "outputs": [
        {
          "output_type": "execute_result",
          "data": {
            "text/plain": [
              "([1209, 1796, 277, 9, 514, 202, 168],\n",
              " [9171, 11334, 1839, 106, 3029, 1392, 1166])"
            ]
          },
          "metadata": {},
          "execution_count": 253
        }
      ]
    },
    {
      "cell_type": "code",
      "source": [
        "# Calculating Probabilties of Outcomes\n",
        "\n",
        "t1_pb = [i/sum(t1_outcomes_count) for i in t1_outcomes_count]\n",
        "t2_pb = [i/sum(t2_outcomes_count) for i in t2_outcomes_count]\n",
        "\n",
        "#t1_pb, t2_pb"
      ],
      "metadata": {
        "id": "z6yeOoDJUwJr"
      },
      "execution_count": 254,
      "outputs": []
    },
    {
      "cell_type": "code",
      "source": [
        "# Calculating Cumulative Probability for Better Simulation\n",
        "\n",
        "t1_cum_pb = list(np.cumsum(t1_pb))\n",
        "t2_cum_pb = list(np.cumsum(t2_pb))\n",
        "\n",
        "t1_cum_pb,t2_cum_pb"
      ],
      "metadata": {
        "colab": {
          "base_uri": "https://localhost:8080/"
        },
        "id": "kOGAEiNhVAty",
        "outputId": "d21d7d2b-366b-4d24-be90-a21a84632e53"
      },
      "execution_count": 255,
      "outputs": [
        {
          "output_type": "execute_result",
          "data": {
            "text/plain": [
              "([0.2895808383233533,\n",
              "  0.7197604790419161,\n",
              "  0.7861077844311376,\n",
              "  0.7882634730538921,\n",
              "  0.9113772455089819,\n",
              "  0.9597604790419161,\n",
              "  0.9999999999999999],\n",
              " [0.32710347041409565,\n",
              "  0.7313549951849342,\n",
              "  0.7969468916075186,\n",
              "  0.8007276099440026,\n",
              "  0.9087634197667368,\n",
              "  0.9584120982986768,\n",
              "  1.0])"
            ]
          },
          "metadata": {},
          "execution_count": 255
        }
      ]
    },
    {
      "cell_type": "markdown",
      "source": [
        "# Function: 1st Innings runs prediction"
      ],
      "metadata": {
        "id": "MDatq1ZiVnb9"
      }
    },
    {
      "cell_type": "code",
      "source": [
        "# first innings\n",
        "def innings_1_runs(curr_overs, curr_score, curr_wickets):\n",
        "    i1p_0 = t1_cum_pb[0]\n",
        "    i1p_1 = t1_cum_pb[1]\n",
        "    i1p_2 = t1_cum_pb[2]\n",
        "    i1p_3 = t1_cum_pb[3]\n",
        "    i1p_4 = t1_cum_pb[4]\n",
        "    i1p_6 = t1_cum_pb[5]\n",
        "    i1p_w = 1\n",
        "\n",
        "    # initialize runs, wickets\n",
        "    pred_runs = curr_score\n",
        "    pred_wks = curr_wickets\n",
        "\n",
        "    # calculate leftover balls\n",
        "    over_ball = curr_overs\n",
        "    over_number = int(str(over_ball).split('.')[0])\n",
        "    ball_number = int(str(over_ball).split('.')[1])\n",
        "\n",
        "    if ball_number >= 6:\n",
        "        ball_number = 6\n",
        "    current_balls = over_number*6 + ball_number\n",
        "    leftover_balls = 120 - current_balls\n",
        "\n",
        "    for i in range(leftover_balls):\n",
        "\n",
        "        r_value = np.random.random()\n",
        "\n",
        "        if r_value <= i1p_0:\n",
        "            pred_runs += 0\n",
        "        elif r_value <= i1p_1:\n",
        "            pred_runs += 1\n",
        "        elif r_value <= i1p_2:\n",
        "            pred_runs += 2\n",
        "        elif r_value <= i1p_3:\n",
        "            pred_runs += 3\n",
        "        elif r_value <= i1p_4:\n",
        "            pred_runs += 4\n",
        "        elif r_value <= i1p_6:\n",
        "            pred_runs += 6\n",
        "        else:\n",
        "            pred_runs += 0\n",
        "            pred_wks += 1\n",
        "            if pred_wks == 10:\n",
        "                break\n",
        "\n",
        "    return pred_runs"
      ],
      "metadata": {
        "id": "TPx4Ra0eVoTf"
      },
      "execution_count": 256,
      "outputs": []
    },
    {
      "cell_type": "code",
      "source": [
        "# innings_1_runs(curr_overs, curr_score, curr_wickets)\n",
        "innings_1_runs(10.0, 100, 0)"
      ],
      "metadata": {
        "colab": {
          "base_uri": "https://localhost:8080/"
        },
        "id": "AgPgFLCeVs4E",
        "outputId": "285fa38a-52de-4c27-b593-d85bc8ac60a4"
      },
      "execution_count": 257,
      "outputs": [
        {
          "output_type": "execute_result",
          "data": {
            "text/plain": [
              "176"
            ]
          },
          "metadata": {},
          "execution_count": 257
        }
      ]
    },
    {
      "cell_type": "markdown",
      "source": [
        "# Function: 2nd Innings runs prediction"
      ],
      "metadata": {
        "id": "KVMtCX65Vx8o"
      }
    },
    {
      "cell_type": "code",
      "source": [
        "# second innings\n",
        "\n",
        "total_balls = 90 # DLS\n",
        "\n",
        "def innings_2_runs(curr_overs, curr_score, curr_wickets, target):\n",
        "    i2p_0 = t2_cum_pb[0]\n",
        "    i2p_1 = t2_cum_pb[1]\n",
        "    i2p_2 = t2_cum_pb[2]\n",
        "    i2p_3 = t2_cum_pb[3]\n",
        "    i2p_4 = t2_cum_pb[4]\n",
        "    i2p_6 = t2_cum_pb[5]\n",
        "    i2p_w = 1\n",
        "\n",
        "    # initialize runs, wickets\n",
        "    pred_runs = curr_score\n",
        "    pred_wks = curr_wickets\n",
        "\n",
        "    # calculate leftover balls\n",
        "    over_ball = curr_overs\n",
        "    over_number = int(str(over_ball).split('.')[0])\n",
        "    ball_number = int(str(over_ball).split('.')[1])\n",
        "\n",
        "    if ball_number >= 6:\n",
        "        ball_number = 6\n",
        "    current_balls = over_number*6 + ball_number\n",
        "    leftover_balls = total_balls - current_balls\n",
        "\n",
        "    for i in range(leftover_balls):\n",
        "\n",
        "        r_value = np.random.random()\n",
        "\n",
        "        if r_value <= i2p_0:\n",
        "            pred_runs += 0\n",
        "        elif r_value <= i2p_1:\n",
        "            pred_runs += 1\n",
        "        elif r_value <= i2p_2:\n",
        "            pred_runs += 2\n",
        "        elif r_value <= i2p_3:\n",
        "            pred_runs += 3\n",
        "        elif r_value <= i2p_4:\n",
        "            pred_runs += 4\n",
        "        elif r_value <= i2p_6:\n",
        "            pred_runs += 6\n",
        "        else:\n",
        "            pred_runs += 0\n",
        "            pred_wks += 1\n",
        "            if pred_wks == 10:\n",
        "                break\n",
        "\n",
        "        if pred_runs > target:\n",
        "            break\n",
        "\n",
        "    return pred_runs"
      ],
      "metadata": {
        "id": "CmWGjGQrVy69"
      },
      "execution_count": 258,
      "outputs": []
    },
    {
      "cell_type": "code",
      "source": [
        "# innings_2_runs(curr_overs, curr_score, curr_wickets, target)\n",
        "innings_2_runs(10.0, 100, 8, 167)"
      ],
      "metadata": {
        "colab": {
          "base_uri": "https://localhost:8080/"
        },
        "id": "daBS5f05V361",
        "outputId": "531f7071-f1c7-4e71-bac9-31ab5b48a43e"
      },
      "execution_count": 259,
      "outputs": [
        {
          "output_type": "execute_result",
          "data": {
            "text/plain": [
              "103"
            ]
          },
          "metadata": {},
          "execution_count": 259
        }
      ]
    },
    {
      "cell_type": "markdown",
      "source": [
        "#  Selecting Match For Prediction"
      ],
      "metadata": {
        "id": "KuTlfyjOZSas"
      }
    },
    {
      "cell_type": "code",
      "source": [
        "# Selecting the Match for Simulation\n",
        "\n",
        "t1 = 'Gujarat Titans'\n",
        "t2 = 'Chennai Super Kings'\n",
        "\n",
        "ipl_df[(ipl_df.batting_team == t1) & (ipl_df.bowling_team == t2) & (ipl_df.innings == 1)].match_id.unique()\n",
        "\n",
        "required_match_id = 1370353"
      ],
      "metadata": {
        "id": "-AzXO0UZWEJu"
      },
      "execution_count": 260,
      "outputs": []
    },
    {
      "cell_type": "code",
      "source": [
        "mdf = ipl_df[ipl_df.match_id == required_match_id]"
      ],
      "metadata": {
        "id": "C-hCZ2vbb32E"
      },
      "execution_count": 261,
      "outputs": []
    },
    {
      "cell_type": "code",
      "source": [
        "mdf.reset_index(inplace = True, drop = True)"
      ],
      "metadata": {
        "id": "9ucBQFY3WFow"
      },
      "execution_count": 262,
      "outputs": []
    },
    {
      "cell_type": "code",
      "source": [
        "mdf.head(3)"
      ],
      "metadata": {
        "colab": {
          "base_uri": "https://localhost:8080/",
          "height": 349
        },
        "id": "_OzhyXyFcFYt",
        "outputId": "196ac1af-f6da-446a-e200-b2b0dddd4dda"
      },
      "execution_count": 263,
      "outputs": [
        {
          "output_type": "execute_result",
          "data": {
            "text/plain": [
              "   match_id season  start_date                             venue  innings  \\\n",
              "0   1370353   2023  2023-05-29  Narendra Modi Stadium, Ahmedabad        1   \n",
              "1   1370353   2023  2023-05-29  Narendra Modi Stadium, Ahmedabad        1   \n",
              "2   1370353   2023  2023-05-29  Narendra Modi Stadium, Ahmedabad        1   \n",
              "\n",
              "   ball    batting_team         bowling_team  striker   non_striker  ...  \\\n",
              "0   0.1  Gujarat Titans  Chennai Super Kings  WP Saha  Shubman Gill  ...   \n",
              "1   0.2  Gujarat Titans  Chennai Super Kings  WP Saha  Shubman Gill  ...   \n",
              "2   0.3  Gujarat Titans  Chennai Super Kings  WP Saha  Shubman Gill  ...   \n",
              "\n",
              "  noballs  byes  legbyes  penalty  wicket_type  player_dismissed  \\\n",
              "0     NaN   NaN      NaN      NaN          NaN               NaN   \n",
              "1     NaN   NaN      NaN      NaN          NaN               NaN   \n",
              "2     NaN   NaN      NaN      NaN          NaN               NaN   \n",
              "\n",
              "   other_wicket_type  other_player_dismissed total_runs isOut  \n",
              "0                NaN                     NaN          0     0  \n",
              "1                NaN                     NaN          0     0  \n",
              "2                NaN                     NaN          1     0  \n",
              "\n",
              "[3 rows x 24 columns]"
            ],
            "text/html": [
              "\n",
              "  <div id=\"df-886d0375-9122-48a8-b2a7-3d65417caa96\" class=\"colab-df-container\">\n",
              "    <div>\n",
              "<style scoped>\n",
              "    .dataframe tbody tr th:only-of-type {\n",
              "        vertical-align: middle;\n",
              "    }\n",
              "\n",
              "    .dataframe tbody tr th {\n",
              "        vertical-align: top;\n",
              "    }\n",
              "\n",
              "    .dataframe thead th {\n",
              "        text-align: right;\n",
              "    }\n",
              "</style>\n",
              "<table border=\"1\" class=\"dataframe\">\n",
              "  <thead>\n",
              "    <tr style=\"text-align: right;\">\n",
              "      <th></th>\n",
              "      <th>match_id</th>\n",
              "      <th>season</th>\n",
              "      <th>start_date</th>\n",
              "      <th>venue</th>\n",
              "      <th>innings</th>\n",
              "      <th>ball</th>\n",
              "      <th>batting_team</th>\n",
              "      <th>bowling_team</th>\n",
              "      <th>striker</th>\n",
              "      <th>non_striker</th>\n",
              "      <th>...</th>\n",
              "      <th>noballs</th>\n",
              "      <th>byes</th>\n",
              "      <th>legbyes</th>\n",
              "      <th>penalty</th>\n",
              "      <th>wicket_type</th>\n",
              "      <th>player_dismissed</th>\n",
              "      <th>other_wicket_type</th>\n",
              "      <th>other_player_dismissed</th>\n",
              "      <th>total_runs</th>\n",
              "      <th>isOut</th>\n",
              "    </tr>\n",
              "  </thead>\n",
              "  <tbody>\n",
              "    <tr>\n",
              "      <th>0</th>\n",
              "      <td>1370353</td>\n",
              "      <td>2023</td>\n",
              "      <td>2023-05-29</td>\n",
              "      <td>Narendra Modi Stadium, Ahmedabad</td>\n",
              "      <td>1</td>\n",
              "      <td>0.1</td>\n",
              "      <td>Gujarat Titans</td>\n",
              "      <td>Chennai Super Kings</td>\n",
              "      <td>WP Saha</td>\n",
              "      <td>Shubman Gill</td>\n",
              "      <td>...</td>\n",
              "      <td>NaN</td>\n",
              "      <td>NaN</td>\n",
              "      <td>NaN</td>\n",
              "      <td>NaN</td>\n",
              "      <td>NaN</td>\n",
              "      <td>NaN</td>\n",
              "      <td>NaN</td>\n",
              "      <td>NaN</td>\n",
              "      <td>0</td>\n",
              "      <td>0</td>\n",
              "    </tr>\n",
              "    <tr>\n",
              "      <th>1</th>\n",
              "      <td>1370353</td>\n",
              "      <td>2023</td>\n",
              "      <td>2023-05-29</td>\n",
              "      <td>Narendra Modi Stadium, Ahmedabad</td>\n",
              "      <td>1</td>\n",
              "      <td>0.2</td>\n",
              "      <td>Gujarat Titans</td>\n",
              "      <td>Chennai Super Kings</td>\n",
              "      <td>WP Saha</td>\n",
              "      <td>Shubman Gill</td>\n",
              "      <td>...</td>\n",
              "      <td>NaN</td>\n",
              "      <td>NaN</td>\n",
              "      <td>NaN</td>\n",
              "      <td>NaN</td>\n",
              "      <td>NaN</td>\n",
              "      <td>NaN</td>\n",
              "      <td>NaN</td>\n",
              "      <td>NaN</td>\n",
              "      <td>0</td>\n",
              "      <td>0</td>\n",
              "    </tr>\n",
              "    <tr>\n",
              "      <th>2</th>\n",
              "      <td>1370353</td>\n",
              "      <td>2023</td>\n",
              "      <td>2023-05-29</td>\n",
              "      <td>Narendra Modi Stadium, Ahmedabad</td>\n",
              "      <td>1</td>\n",
              "      <td>0.3</td>\n",
              "      <td>Gujarat Titans</td>\n",
              "      <td>Chennai Super Kings</td>\n",
              "      <td>WP Saha</td>\n",
              "      <td>Shubman Gill</td>\n",
              "      <td>...</td>\n",
              "      <td>NaN</td>\n",
              "      <td>NaN</td>\n",
              "      <td>NaN</td>\n",
              "      <td>NaN</td>\n",
              "      <td>NaN</td>\n",
              "      <td>NaN</td>\n",
              "      <td>NaN</td>\n",
              "      <td>NaN</td>\n",
              "      <td>1</td>\n",
              "      <td>0</td>\n",
              "    </tr>\n",
              "  </tbody>\n",
              "</table>\n",
              "<p>3 rows × 24 columns</p>\n",
              "</div>\n",
              "    <div class=\"colab-df-buttons\">\n",
              "\n",
              "  <div class=\"colab-df-container\">\n",
              "    <button class=\"colab-df-convert\" onclick=\"convertToInteractive('df-886d0375-9122-48a8-b2a7-3d65417caa96')\"\n",
              "            title=\"Convert this dataframe to an interactive table.\"\n",
              "            style=\"display:none;\">\n",
              "\n",
              "  <svg xmlns=\"http://www.w3.org/2000/svg\" height=\"24px\" viewBox=\"0 -960 960 960\">\n",
              "    <path d=\"M120-120v-720h720v720H120Zm60-500h600v-160H180v160Zm220 220h160v-160H400v160Zm0 220h160v-160H400v160ZM180-400h160v-160H180v160Zm440 0h160v-160H620v160ZM180-180h160v-160H180v160Zm440 0h160v-160H620v160Z\"/>\n",
              "  </svg>\n",
              "    </button>\n",
              "\n",
              "  <style>\n",
              "    .colab-df-container {\n",
              "      display:flex;\n",
              "      gap: 12px;\n",
              "    }\n",
              "\n",
              "    .colab-df-convert {\n",
              "      background-color: #E8F0FE;\n",
              "      border: none;\n",
              "      border-radius: 50%;\n",
              "      cursor: pointer;\n",
              "      display: none;\n",
              "      fill: #1967D2;\n",
              "      height: 32px;\n",
              "      padding: 0 0 0 0;\n",
              "      width: 32px;\n",
              "    }\n",
              "\n",
              "    .colab-df-convert:hover {\n",
              "      background-color: #E2EBFA;\n",
              "      box-shadow: 0px 1px 2px rgba(60, 64, 67, 0.3), 0px 1px 3px 1px rgba(60, 64, 67, 0.15);\n",
              "      fill: #174EA6;\n",
              "    }\n",
              "\n",
              "    .colab-df-buttons div {\n",
              "      margin-bottom: 4px;\n",
              "    }\n",
              "\n",
              "    [theme=dark] .colab-df-convert {\n",
              "      background-color: #3B4455;\n",
              "      fill: #D2E3FC;\n",
              "    }\n",
              "\n",
              "    [theme=dark] .colab-df-convert:hover {\n",
              "      background-color: #434B5C;\n",
              "      box-shadow: 0px 1px 3px 1px rgba(0, 0, 0, 0.15);\n",
              "      filter: drop-shadow(0px 1px 2px rgba(0, 0, 0, 0.3));\n",
              "      fill: #FFFFFF;\n",
              "    }\n",
              "  </style>\n",
              "\n",
              "    <script>\n",
              "      const buttonEl =\n",
              "        document.querySelector('#df-886d0375-9122-48a8-b2a7-3d65417caa96 button.colab-df-convert');\n",
              "      buttonEl.style.display =\n",
              "        google.colab.kernel.accessAllowed ? 'block' : 'none';\n",
              "\n",
              "      async function convertToInteractive(key) {\n",
              "        const element = document.querySelector('#df-886d0375-9122-48a8-b2a7-3d65417caa96');\n",
              "        const dataTable =\n",
              "          await google.colab.kernel.invokeFunction('convertToInteractive',\n",
              "                                                    [key], {});\n",
              "        if (!dataTable) return;\n",
              "\n",
              "        const docLinkHtml = 'Like what you see? Visit the ' +\n",
              "          '<a target=\"_blank\" href=https://colab.research.google.com/notebooks/data_table.ipynb>data table notebook</a>'\n",
              "          + ' to learn more about interactive tables.';\n",
              "        element.innerHTML = '';\n",
              "        dataTable['output_type'] = 'display_data';\n",
              "        await google.colab.output.renderOutput(dataTable, element);\n",
              "        const docLink = document.createElement('div');\n",
              "        docLink.innerHTML = docLinkHtml;\n",
              "        element.appendChild(docLink);\n",
              "      }\n",
              "    </script>\n",
              "  </div>\n",
              "\n",
              "\n",
              "<div id=\"df-3b02d419-ccd2-4478-9e80-4e124655eac2\">\n",
              "  <button class=\"colab-df-quickchart\" onclick=\"quickchart('df-3b02d419-ccd2-4478-9e80-4e124655eac2')\"\n",
              "            title=\"Suggest charts\"\n",
              "            style=\"display:none;\">\n",
              "\n",
              "<svg xmlns=\"http://www.w3.org/2000/svg\" height=\"24px\"viewBox=\"0 0 24 24\"\n",
              "     width=\"24px\">\n",
              "    <g>\n",
              "        <path d=\"M19 3H5c-1.1 0-2 .9-2 2v14c0 1.1.9 2 2 2h14c1.1 0 2-.9 2-2V5c0-1.1-.9-2-2-2zM9 17H7v-7h2v7zm4 0h-2V7h2v10zm4 0h-2v-4h2v4z\"/>\n",
              "    </g>\n",
              "</svg>\n",
              "  </button>\n",
              "\n",
              "<style>\n",
              "  .colab-df-quickchart {\n",
              "      --bg-color: #E8F0FE;\n",
              "      --fill-color: #1967D2;\n",
              "      --hover-bg-color: #E2EBFA;\n",
              "      --hover-fill-color: #174EA6;\n",
              "      --disabled-fill-color: #AAA;\n",
              "      --disabled-bg-color: #DDD;\n",
              "  }\n",
              "\n",
              "  [theme=dark] .colab-df-quickchart {\n",
              "      --bg-color: #3B4455;\n",
              "      --fill-color: #D2E3FC;\n",
              "      --hover-bg-color: #434B5C;\n",
              "      --hover-fill-color: #FFFFFF;\n",
              "      --disabled-bg-color: #3B4455;\n",
              "      --disabled-fill-color: #666;\n",
              "  }\n",
              "\n",
              "  .colab-df-quickchart {\n",
              "    background-color: var(--bg-color);\n",
              "    border: none;\n",
              "    border-radius: 50%;\n",
              "    cursor: pointer;\n",
              "    display: none;\n",
              "    fill: var(--fill-color);\n",
              "    height: 32px;\n",
              "    padding: 0;\n",
              "    width: 32px;\n",
              "  }\n",
              "\n",
              "  .colab-df-quickchart:hover {\n",
              "    background-color: var(--hover-bg-color);\n",
              "    box-shadow: 0 1px 2px rgba(60, 64, 67, 0.3), 0 1px 3px 1px rgba(60, 64, 67, 0.15);\n",
              "    fill: var(--button-hover-fill-color);\n",
              "  }\n",
              "\n",
              "  .colab-df-quickchart-complete:disabled,\n",
              "  .colab-df-quickchart-complete:disabled:hover {\n",
              "    background-color: var(--disabled-bg-color);\n",
              "    fill: var(--disabled-fill-color);\n",
              "    box-shadow: none;\n",
              "  }\n",
              "\n",
              "  .colab-df-spinner {\n",
              "    border: 2px solid var(--fill-color);\n",
              "    border-color: transparent;\n",
              "    border-bottom-color: var(--fill-color);\n",
              "    animation:\n",
              "      spin 1s steps(1) infinite;\n",
              "  }\n",
              "\n",
              "  @keyframes spin {\n",
              "    0% {\n",
              "      border-color: transparent;\n",
              "      border-bottom-color: var(--fill-color);\n",
              "      border-left-color: var(--fill-color);\n",
              "    }\n",
              "    20% {\n",
              "      border-color: transparent;\n",
              "      border-left-color: var(--fill-color);\n",
              "      border-top-color: var(--fill-color);\n",
              "    }\n",
              "    30% {\n",
              "      border-color: transparent;\n",
              "      border-left-color: var(--fill-color);\n",
              "      border-top-color: var(--fill-color);\n",
              "      border-right-color: var(--fill-color);\n",
              "    }\n",
              "    40% {\n",
              "      border-color: transparent;\n",
              "      border-right-color: var(--fill-color);\n",
              "      border-top-color: var(--fill-color);\n",
              "    }\n",
              "    60% {\n",
              "      border-color: transparent;\n",
              "      border-right-color: var(--fill-color);\n",
              "    }\n",
              "    80% {\n",
              "      border-color: transparent;\n",
              "      border-right-color: var(--fill-color);\n",
              "      border-bottom-color: var(--fill-color);\n",
              "    }\n",
              "    90% {\n",
              "      border-color: transparent;\n",
              "      border-bottom-color: var(--fill-color);\n",
              "    }\n",
              "  }\n",
              "</style>\n",
              "\n",
              "  <script>\n",
              "    async function quickchart(key) {\n",
              "      const quickchartButtonEl =\n",
              "        document.querySelector('#' + key + ' button');\n",
              "      quickchartButtonEl.disabled = true;  // To prevent multiple clicks.\n",
              "      quickchartButtonEl.classList.add('colab-df-spinner');\n",
              "      try {\n",
              "        const charts = await google.colab.kernel.invokeFunction(\n",
              "            'suggestCharts', [key], {});\n",
              "      } catch (error) {\n",
              "        console.error('Error during call to suggestCharts:', error);\n",
              "      }\n",
              "      quickchartButtonEl.classList.remove('colab-df-spinner');\n",
              "      quickchartButtonEl.classList.add('colab-df-quickchart-complete');\n",
              "    }\n",
              "    (() => {\n",
              "      let quickchartButtonEl =\n",
              "        document.querySelector('#df-3b02d419-ccd2-4478-9e80-4e124655eac2 button');\n",
              "      quickchartButtonEl.style.display =\n",
              "        google.colab.kernel.accessAllowed ? 'block' : 'none';\n",
              "    })();\n",
              "  </script>\n",
              "</div>\n",
              "\n",
              "    </div>\n",
              "  </div>\n"
            ]
          },
          "metadata": {},
          "execution_count": 263
        }
      ]
    },
    {
      "cell_type": "code",
      "source": [
        "df_ing1 = mdf[mdf.innings == 1]\n",
        "df_ing2 = mdf[mdf.innings == 2]"
      ],
      "metadata": {
        "id": "1VVu-Ra6WG_w"
      },
      "execution_count": 264,
      "outputs": []
    },
    {
      "cell_type": "code",
      "source": [
        "df_ing1 = df_ing1.sort_values('ball', ascending = True)\n",
        "df_ing2 = df_ing2.sort_values('ball', ascending = True)"
      ],
      "metadata": {
        "id": "hd_qw9HFWI15"
      },
      "execution_count": 265,
      "outputs": []
    },
    {
      "cell_type": "code",
      "source": [
        "df_ing1.reset_index(inplace = True, drop = True)\n",
        "df_ing2.reset_index(inplace = True, drop = True)"
      ],
      "metadata": {
        "id": "HxjykbEyWQ2z"
      },
      "execution_count": 266,
      "outputs": []
    },
    {
      "cell_type": "code",
      "source": [
        "len(df_ing1), len(df_ing2)"
      ],
      "metadata": {
        "colab": {
          "base_uri": "https://localhost:8080/"
        },
        "id": "SAC0Ss25xTyF",
        "outputId": "5935b01f-2614-465d-f90f-b6dd2eb2cd6e"
      },
      "execution_count": 267,
      "outputs": [
        {
          "output_type": "execute_result",
          "data": {
            "text/plain": [
              "(122, 94)"
            ]
          },
          "metadata": {},
          "execution_count": 267
        }
      ]
    },
    {
      "cell_type": "markdown",
      "source": [
        "# Runs prediction: 1st Innings"
      ],
      "metadata": {
        "id": "MFVGjRKoW86a"
      }
    },
    {
      "cell_type": "code",
      "source": [
        "# Predicting at Every Ball\n",
        "\n",
        "curr_score = 0\n",
        "curr_wickets = 0\n",
        "curr_overs = 0.0\n",
        "\n",
        "ing1_runs_pred = []\n",
        "\n",
        "for i in range(len(df_ing1)):\n",
        "    curr_score += df_ing1.total_runs[i]\n",
        "    curr_overs = df_ing1.ball[i]\n",
        "    curr_wickets += df_ing1.isOut[i]\n",
        "\n",
        "    prediction = innings_1_runs(curr_overs, curr_score, curr_wickets)\n",
        "#     print('score: ', curr_score, ' overs: ', curr_overs, ' wickets: ', curr_wickets, ' prediction: ', prediction)\n",
        "    ing1_runs_pred.append(prediction)"
      ],
      "metadata": {
        "id": "a0Uu48jdWS0s"
      },
      "execution_count": 268,
      "outputs": []
    },
    {
      "cell_type": "code",
      "source": [
        "ing1_actual_score = sum(df_ing1.total_runs)\n",
        "\n",
        "ing1_actual_score"
      ],
      "metadata": {
        "colab": {
          "base_uri": "https://localhost:8080/"
        },
        "id": "5zBEO9vrXKIb",
        "outputId": "79c7f156-ad8f-4a2f-c9b9-fc44119d6c70"
      },
      "execution_count": 269,
      "outputs": [
        {
          "output_type": "execute_result",
          "data": {
            "text/plain": [
              "214"
            ]
          },
          "metadata": {},
          "execution_count": 269
        }
      ]
    },
    {
      "cell_type": "markdown",
      "source": [
        "# Runs prediction: 2nd Innings"
      ],
      "metadata": {
        "id": "X2dk0UUTXPOw"
      }
    },
    {
      "cell_type": "code",
      "source": [
        "# Predicting at Every Ball\n",
        "\n",
        "curr_score = 0\n",
        "curr_wickets = 0\n",
        "curr_overs = 0.0\n",
        "# target = ing1_actual_score\n",
        "target = 170 # DLS\n",
        "\n",
        "ing2_runs_pred = []\n",
        "\n",
        "for i in range(len(df_ing2)):\n",
        "    curr_score += df_ing2.total_runs[i]\n",
        "    curr_overs = df_ing2.ball[i]\n",
        "    curr_wickets += df_ing2.isOut[i]\n",
        "\n",
        "    prediction = innings_2_runs(curr_overs, curr_score, curr_wickets, target)\n",
        "#     print('target: ', target)\n",
        "#     print('score: ', curr_score, ' overs: ', curr_overs, ' wickets: ', curr_wickets, ' prediction: ', prediction)\n",
        "    ing2_runs_pred.append(prediction)"
      ],
      "metadata": {
        "id": "3gu1RcSXXKcK"
      },
      "execution_count": 270,
      "outputs": []
    },
    {
      "cell_type": "markdown",
      "source": [
        "# Runs prediction chart: 1st Innings"
      ],
      "metadata": {
        "id": "zuTEYJGdXZhR"
      }
    },
    {
      "cell_type": "code",
      "source": [
        "plt.figure(figsize = (16, 6))\n",
        "plt.scatter([i for i in range(len(ing1_runs_pred))], ing1_runs_pred, alpha = 0.5, label = 'pred', color = 'red')\n",
        "plt.ylim(0, ing1_actual_score + 30)\n",
        "plt.axhline(ing1_actual_score, ls = '--', label = 'actual', color = 'green')\n",
        "plt.title('First Innings Runs - Prediction vs Actual (' + t1 + ': ' + str(ing1_actual_score) +  ')', fontsize = 16)\n",
        "plt.legend()\n",
        "plt.xlabel('Ball No')\n",
        "plt.ylabel('Runs')\n",
        "plt.show()"
      ],
      "metadata": {
        "colab": {
          "base_uri": "https://localhost:8080/",
          "height": 481
        },
        "id": "e2bv5hd4XXRB",
        "outputId": "c05f5be5-eb93-40b8-ac6f-fb7c4596bc63"
      },
      "execution_count": 271,
      "outputs": [
        {
          "output_type": "display_data",
          "data": {
            "text/plain": [
              "<Figure size 1600x600 with 1 Axes>"
            ],
            "image/png": "[encoded data removed]"
          },
          "metadata": {}
        }
      ]
    },
    {
      "cell_type": "markdown",
      "source": [
        "## Error in 1st Innings runs:"
      ],
      "metadata": {
        "id": "eqpGZoF4Xg2r"
      }
    },
    {
      "cell_type": "code",
      "source": [
        "np.mean([abs(i - ing1_actual_score) for i in ing1_runs_pred])"
      ],
      "metadata": {
        "colab": {
          "base_uri": "https://localhost:8080/"
        },
        "id": "Odx8LVmqXilD",
        "outputId": "6830768a-b9d7-44d9-83b7-e15654f9af7d"
      },
      "execution_count": 272,
      "outputs": [
        {
          "output_type": "execute_result",
          "data": {
            "text/plain": [
              "38.540983606557376"
            ]
          },
          "metadata": {},
          "execution_count": 272
        }
      ]
    },
    {
      "cell_type": "code",
      "source": [
        "ing2_actual_score = sum(df_ing2.total_runs)\n",
        "ing2_actual_score"
      ],
      "metadata": {
        "colab": {
          "base_uri": "https://localhost:8080/"
        },
        "id": "tgOjOqkwXj7x",
        "outputId": "4e309e87-d6e0-45a7-de12-14dd24483976"
      },
      "execution_count": 273,
      "outputs": [
        {
          "output_type": "execute_result",
          "data": {
            "text/plain": [
              "171"
            ]
          },
          "metadata": {},
          "execution_count": 273
        }
      ]
    },
    {
      "cell_type": "markdown",
      "source": [
        "\n",
        "# Runs prediction chart: 2nd Innings"
      ],
      "metadata": {
        "id": "RZtv6CtrXn7v"
      }
    },
    {
      "cell_type": "code",
      "source": [
        "plt.figure(figsize = (16, 6))\n",
        "plt.scatter([i for i in range(len(ing2_runs_pred))], ing2_runs_pred, alpha = 0.5, label = 'pred', color = 'red')\n",
        "plt.ylim(0, ing2_actual_score + 30)\n",
        "plt.axhline(ing2_actual_score, ls = '--', label = 'actual', color = 'green')\n",
        "plt.title('Second Innings Runs - Prediction vs Actual (' + t2 + ': ' + str(ing2_actual_score) +  ')', fontsize = 16)\n",
        "plt.xlabel('Ball No')\n",
        "plt.ylabel('Runs')\n",
        "plt.legend()\n",
        "plt.show()"
      ],
      "metadata": {
        "colab": {
          "base_uri": "https://localhost:8080/",
          "height": 481
        },
        "id": "qvIzPnVoXldY",
        "outputId": "eb3d2bb8-bc91-41aa-fa07-7e60a27e7f55"
      },
      "execution_count": 274,
      "outputs": [
        {
          "output_type": "display_data",
          "data": {
            "text/plain": [
              "<Figure size 1600x600 with 1 Axes>"
            ],
            "image/png": "[encoded data removed]"
          },
          "metadata": {}
        }
      ]
    },
    {
      "cell_type": "markdown",
      "source": [
        "## Error in 2nd Innings runs:"
      ],
      "metadata": {
        "id": "hpT1DyCBXtOl"
      }
    },
    {
      "cell_type": "code",
      "source": [
        "np.mean([abs(i - ing2_actual_score) for i in ing2_runs_pred])"
      ],
      "metadata": {
        "colab": {
          "base_uri": "https://localhost:8080/"
        },
        "id": "5icmNjGNXvAD",
        "outputId": "17730bda-8510-407b-9c96-0de408745e7d"
      },
      "execution_count": 275,
      "outputs": [
        {
          "output_type": "execute_result",
          "data": {
            "text/plain": [
              "29.70212765957447"
            ]
          },
          "metadata": {},
          "execution_count": 275
        }
      ]
    },
    {
      "cell_type": "markdown",
      "source": [
        "# Win predictions: 1st Innings"
      ],
      "metadata": {
        "id": "BQIy9bkcXykq"
      }
    },
    {
      "cell_type": "code",
      "source": [
        "# 1, 2 innings & predict win\n",
        "\n",
        "# for each ball make a prediction: 1st runs, 2nd runs, win/lose/tie\n",
        "\n",
        "# initialize win/tie/lose\n",
        "win_count = 0\n",
        "tie_count = 0\n",
        "lose_count = 0\n",
        "\n",
        "win_count_ls = []\n",
        "tie_count_ls = []\n",
        "lose_count_ls = []\n",
        "\n",
        "ing1_curr_score = 0\n",
        "ing1_curr_overs = 0\n",
        "ing1_curr_wickets = 0\n",
        "\n",
        "# each ball\n",
        "for i in range(len(df_ing1)):\n",
        "\n",
        "    # 1st innings values\n",
        "    ing1_curr_score += df_ing1.total_runs[i]\n",
        "    ing1_curr_overs = df_ing1.ball[i]\n",
        "    ing1_curr_wickets += df_ing1.isOut[i]\n",
        "\n",
        "    #2nd innings values\n",
        "    ing2_curr_score = 0\n",
        "    ing2_curr_wickets = 0\n",
        "    ing2_curr_overs = 0.0\n",
        "\n",
        "    # make a prediction for 100 times & get win/lose/tie count(ex: 28% win)\n",
        "    for j in range(100):\n",
        "\n",
        "        ing1_prediction = innings_1_runs(ing1_curr_overs, ing1_curr_score, ing1_curr_wickets)\n",
        "        target = ing1_prediction\n",
        "\n",
        "        ing2_prediction = innings_2_runs(ing2_curr_overs, ing2_curr_score, ing2_curr_wickets, target)\n",
        "\n",
        "#         print(ing1_prediction, ing2_prediction)\n",
        "\n",
        "        # prediction w.r.t 2nd team\n",
        "        if ing2_prediction > target:\n",
        "            win_count += 1\n",
        "        elif ing2_prediction == target:\n",
        "            tie_count += 1\n",
        "        else:\n",
        "            lose_count += 1\n",
        "\n",
        "    win_count_ls.append(win_count)\n",
        "    tie_count_ls.append(tie_count)\n",
        "    lose_count_ls.append(lose_count)\n",
        "\n",
        "    win_count = 0\n",
        "    tie_count = 0\n",
        "    lose_count = 0"
      ],
      "metadata": {
        "id": "5hxGdTxTXxLt"
      },
      "execution_count": 276,
      "outputs": []
    },
    {
      "cell_type": "markdown",
      "source": [
        "# Win predictions: 2nd Innings"
      ],
      "metadata": {
        "id": "NSL26WaNX4_z"
      }
    },
    {
      "cell_type": "code",
      "source": [
        "# each ball\n",
        "#2nd innings values\n",
        "ing2_curr_score = 0\n",
        "ing2_curr_wickets = 0\n",
        "ing2_curr_overs = 0.0\n",
        "\n",
        "for i in range(len(df_ing2)):\n",
        "\n",
        "    # 1st innings values\n",
        "    # target = ing1_actual_score\n",
        "    target = 170 # DLS\n",
        "\n",
        "\n",
        "    #2nd innings values\n",
        "    ing2_curr_score += df_ing2.total_runs[i]\n",
        "    ing2_curr_wickets += df_ing2.isOut[i]\n",
        "    ing2_curr_overs = df_ing2.ball[i]\n",
        "\n",
        "    # make a prediction for 100 times & get win/lose/tie count(ex: 28% win)\n",
        "    for j in range(100):\n",
        "        ing2_prediction = innings_2_runs(ing2_curr_overs, ing2_curr_score, ing2_curr_wickets, target)\n",
        "\n",
        "#         print(target, ing2_prediction)\n",
        "\n",
        "        # prediction w.r.t 2nd team\n",
        "        if ing2_prediction > target:\n",
        "            win_count += 1\n",
        "        elif ing2_prediction == target:\n",
        "            tie_count += 1\n",
        "        else:\n",
        "            lose_count += 1\n",
        "\n",
        "    win_count_ls.append(win_count)\n",
        "    tie_count_ls.append(tie_count)\n",
        "    lose_count_ls.append(lose_count)\n",
        "\n",
        "    win_count = 0\n",
        "    tie_count = 0\n",
        "    lose_count = 0"
      ],
      "metadata": {
        "id": "1iiN2DnZX3JR"
      },
      "execution_count": 277,
      "outputs": []
    },
    {
      "cell_type": "markdown",
      "source": [
        "# Win Percentage Chart:"
      ],
      "metadata": {
        "id": "Ju-tcar7X9uL"
      }
    },
    {
      "cell_type": "code",
      "source": [
        "plt.figure(figsize = (20,10))\n",
        "\n",
        "x1_values = [i for i in range(len(win_count_ls))]\n",
        "y1_values = win_count_ls\n",
        "\n",
        "x2_values = [i for i in range(len(tie_count_ls))]\n",
        "y2_values = tie_count_ls\n",
        "\n",
        "x3_values = [i for i in range(len(lose_count_ls))]\n",
        "y3_values = lose_count_ls\n",
        "\n",
        "for i in range(10, len(mdf), 20):\n",
        "    if i < len(mdf) - 10:\n",
        "        plt.axvspan(i, i+10, ymin = 0, ymax = 100, alpha = 0.05, color='grey')\n",
        "\n",
        "plt.axhline(y = 75, ls = '--', alpha = 0.3, c = 'grey')\n",
        "plt.axhline(y = 50, ls = '--', alpha = 1, c = 'grey')\n",
        "plt.axhline(y = 25, ls = '--', alpha = 0.3, c = 'grey')\n",
        "\n",
        "plt.plot(x1_values, y1_values, color = 'orange', label = t2)\n",
        "plt.plot(x2_values, y2_values, color = 'grey', label = 'Tie Value')\n",
        "plt.plot(x3_values, y3_values, color = 'blue', label = t1)\n",
        "\n",
        "plt.ylim(0, 100)\n",
        "plt.yticks([0, 25, 50, 75, 100])\n",
        "\n",
        "\n",
        "# add confidence interval\n",
        "# ci = 3\n",
        "# plt.fill_between(x1_values, np.array(y1_values) - ci, np.array(y1_values) + ci, color = 'orange', alpha = 0.2 )\n",
        "# plt.fill_between(x2_values, np.array(y2_values) - ci, np.array(y2_values) + ci, color = 'grey', alpha = 0.2 )\n",
        "# plt.fill_between(x3_values, np.array(y3_values) - ci, np.array(y3_values) + ci, color = 'blue', alpha = 0.2 )\n",
        "\n",
        "plt.title('Win Percentage Chart: ' + t1 + ' vs ' + t2, fontsize = 16)\n",
        "plt.xlabel('Ball No')\n",
        "plt.ylabel('Win %')\n",
        "plt.legend()\n",
        "plt.show()"
      ],
      "metadata": {
        "colab": {
          "base_uri": "https://localhost:8080/",
          "height": 604
        },
        "id": "8mDgV7vmX-nS",
        "outputId": "5d05788f-63d4-4b97-827c-d0163abc205f"
      },
      "execution_count": 278,
      "outputs": [
        {
          "output_type": "display_data",
          "data": {
            "text/plain": [
              "<Figure size 2000x1000 with 1 Axes>"
            ],
            "image/png": "[encoded data removed]"
          },
          "metadata": {}
        }
      ]
    },
    {
      "cell_type": "code",
      "source": [],
      "metadata": {
        "id": "x6-IgjOGYAK4"
      },
      "execution_count": null,
      "outputs": []
    }
  ]
}